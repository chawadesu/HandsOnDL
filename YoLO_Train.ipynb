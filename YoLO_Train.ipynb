{
  "nbformat": 4,
  "nbformat_minor": 0,
  "metadata": {
    "colab": {
      "name": "YoLO_Train.ipynb",
      "provenance": [],
      "collapsed_sections": [],
      "machine_shape": "hm",
      "include_colab_link": true
    },
    "kernelspec": {
      "name": "python3",
      "display_name": "Python 3"
    },
    "language_info": {
      "name": "python"
    },
    "accelerator": "GPU"
  },
  "cells": [
    {
      "cell_type": "markdown",
      "metadata": {
        "id": "view-in-github",
        "colab_type": "text"
      },
      "source": [
        "<a href=\"https://colab.research.google.com/github/chawadesu/HandsOnDL/blob/main/YoLO_Train.ipynb\" target=\"_parent\"><img src=\"https://colab.research.google.com/assets/colab-badge.svg\" alt=\"Open In Colab\"/></a>"
      ]
    },
    {
      "cell_type": "code",
      "source": [
        "!nvidia-smi"
      ],
      "metadata": {
        "colab": {
          "base_uri": "https://localhost:8080/"
        },
        "id": "PeWoyNUAITT1",
        "outputId": "b09c1ecf-7b22-429b-e850-b382fa6ea57e"
      },
      "execution_count": null,
      "outputs": [
        {
          "output_type": "stream",
          "name": "stdout",
          "text": [
            "Fri Mar 18 01:34:51 2022       \n",
            "+-----------------------------------------------------------------------------+\n",
            "| NVIDIA-SMI 460.32.03    Driver Version: 460.32.03    CUDA Version: 11.2     |\n",
            "|-------------------------------+----------------------+----------------------+\n",
            "| GPU  Name        Persistence-M| Bus-Id        Disp.A | Volatile Uncorr. ECC |\n",
            "| Fan  Temp  Perf  Pwr:Usage/Cap|         Memory-Usage | GPU-Util  Compute M. |\n",
            "|                               |                      |               MIG M. |\n",
            "|===============================+======================+======================|\n",
            "|   0  Tesla P100-PCIE...  Off  | 00000000:00:04.0 Off |                    0 |\n",
            "| N/A   33C    P0    26W / 250W |      0MiB / 16280MiB |      0%      Default |\n",
            "|                               |                      |                  N/A |\n",
            "+-------------------------------+----------------------+----------------------+\n",
            "                                                                               \n",
            "+-----------------------------------------------------------------------------+\n",
            "| Processes:                                                                  |\n",
            "|  GPU   GI   CI        PID   Type   Process name                  GPU Memory |\n",
            "|        ID   ID                                                   Usage      |\n",
            "|=============================================================================|\n",
            "|  No running processes found                                                 |\n",
            "+-----------------------------------------------------------------------------+\n"
          ]
        }
      ]
    },
    {
      "cell_type": "markdown",
      "source": [
        "# Load ROBO FLOW DATA MaiOOK"
      ],
      "metadata": {
        "id": "0TJqVVPpIkjm"
      }
    },
    {
      "cell_type": "code",
      "execution_count": null,
      "metadata": {
        "colab": {
          "base_uri": "https://localhost:8080/",
          "height": 1000
        },
        "id": "Pn2DfbEdIMHc",
        "outputId": "e4d2e0fb-8f07-4244-dbde-6da53348ae43"
      },
      "outputs": [
        {
          "output_type": "stream",
          "name": "stdout",
          "text": [
            "Collecting roboflow\n",
            "  Downloading roboflow-0.2.2-py3-none-any.whl (24 kB)\n",
            "Requirement already satisfied: Pillow>=7.1.2 in /usr/local/lib/python3.7/dist-packages (from roboflow) (7.1.2)\n",
            "Requirement already satisfied: matplotlib in /usr/local/lib/python3.7/dist-packages (from roboflow) (3.2.2)\n",
            "Requirement already satisfied: opencv-python>=4.1.2 in /usr/local/lib/python3.7/dist-packages (from roboflow) (4.1.2.30)\n",
            "Collecting wget\n",
            "  Downloading wget-3.2.zip (10 kB)\n",
            "Collecting kiwisolver==1.3.1\n",
            "  Downloading kiwisolver-1.3.1-cp37-cp37m-manylinux1_x86_64.whl (1.1 MB)\n",
            "\u001b[K     |████████████████████████████████| 1.1 MB 10.7 MB/s \n",
            "\u001b[?25hRequirement already satisfied: numpy>=1.18.5 in /usr/local/lib/python3.7/dist-packages (from roboflow) (1.21.5)\n",
            "Collecting pyparsing==2.4.7\n",
            "  Downloading pyparsing-2.4.7-py2.py3-none-any.whl (67 kB)\n",
            "\u001b[K     |████████████████████████████████| 67 kB 7.3 MB/s \n",
            "\u001b[?25hCollecting certifi==2021.5.30\n",
            "  Downloading certifi-2021.5.30-py2.py3-none-any.whl (145 kB)\n",
            "\u001b[K     |████████████████████████████████| 145 kB 58.4 MB/s \n",
            "\u001b[?25hRequirement already satisfied: python-dateutil in /usr/local/lib/python3.7/dist-packages (from roboflow) (2.8.2)\n",
            "Collecting python-dotenv\n",
            "  Downloading python_dotenv-0.19.2-py2.py3-none-any.whl (17 kB)\n",
            "Requirement already satisfied: requests in /usr/local/lib/python3.7/dist-packages (from roboflow) (2.23.0)\n",
            "Collecting urllib3==1.26.6\n",
            "  Downloading urllib3-1.26.6-py2.py3-none-any.whl (138 kB)\n",
            "\u001b[K     |████████████████████████████████| 138 kB 75.4 MB/s \n",
            "\u001b[?25hCollecting PyYAML>=5.3.1\n",
            "  Downloading PyYAML-6.0-cp37-cp37m-manylinux_2_5_x86_64.manylinux1_x86_64.manylinux_2_12_x86_64.manylinux2010_x86_64.whl (596 kB)\n",
            "\u001b[K     |████████████████████████████████| 596 kB 64.2 MB/s \n",
            "\u001b[?25hRequirement already satisfied: six in /usr/local/lib/python3.7/dist-packages (from roboflow) (1.15.0)\n",
            "Requirement already satisfied: tqdm>=4.41.0 in /usr/local/lib/python3.7/dist-packages (from roboflow) (4.63.0)\n",
            "Requirement already satisfied: idna==2.10 in /usr/local/lib/python3.7/dist-packages (from roboflow) (2.10)\n",
            "Collecting cycler==0.10.0\n",
            "  Downloading cycler-0.10.0-py2.py3-none-any.whl (6.5 kB)\n",
            "Collecting chardet==4.0.0\n",
            "  Downloading chardet-4.0.0-py2.py3-none-any.whl (178 kB)\n",
            "\u001b[K     |████████████████████████████████| 178 kB 75.5 MB/s \n",
            "\u001b[?25hCollecting requests\n",
            "  Downloading requests-2.27.1-py2.py3-none-any.whl (63 kB)\n",
            "\u001b[K     |████████████████████████████████| 63 kB 2.0 MB/s \n",
            "\u001b[?25hRequirement already satisfied: charset-normalizer~=2.0.0 in /usr/local/lib/python3.7/dist-packages (from requests->roboflow) (2.0.12)\n",
            "Building wheels for collected packages: wget\n",
            "  Building wheel for wget (setup.py) ... \u001b[?25l\u001b[?25hdone\n",
            "  Created wheel for wget: filename=wget-3.2-py3-none-any.whl size=9675 sha256=a37f904bec166528f6bd9248f940251fd17b58a1328b0281f5980d7743b4bd03\n",
            "  Stored in directory: /root/.cache/pip/wheels/a1/b6/7c/0e63e34eb06634181c63adacca38b79ff8f35c37e3c13e3c02\n",
            "Successfully built wget\n",
            "Installing collected packages: urllib3, pyparsing, kiwisolver, cycler, certifi, wget, requests, PyYAML, python-dotenv, chardet, roboflow\n",
            "  Attempting uninstall: urllib3\n",
            "    Found existing installation: urllib3 1.24.3\n",
            "    Uninstalling urllib3-1.24.3:\n",
            "      Successfully uninstalled urllib3-1.24.3\n",
            "  Attempting uninstall: pyparsing\n",
            "    Found existing installation: pyparsing 3.0.7\n",
            "    Uninstalling pyparsing-3.0.7:\n",
            "      Successfully uninstalled pyparsing-3.0.7\n",
            "  Attempting uninstall: kiwisolver\n",
            "    Found existing installation: kiwisolver 1.3.2\n",
            "    Uninstalling kiwisolver-1.3.2:\n",
            "      Successfully uninstalled kiwisolver-1.3.2\n",
            "  Attempting uninstall: cycler\n",
            "    Found existing installation: cycler 0.11.0\n",
            "    Uninstalling cycler-0.11.0:\n",
            "      Successfully uninstalled cycler-0.11.0\n",
            "  Attempting uninstall: certifi\n",
            "    Found existing installation: certifi 2021.10.8\n",
            "    Uninstalling certifi-2021.10.8:\n",
            "      Successfully uninstalled certifi-2021.10.8\n",
            "  Attempting uninstall: requests\n",
            "    Found existing installation: requests 2.23.0\n",
            "    Uninstalling requests-2.23.0:\n",
            "      Successfully uninstalled requests-2.23.0\n",
            "  Attempting uninstall: PyYAML\n",
            "    Found existing installation: PyYAML 3.13\n",
            "    Uninstalling PyYAML-3.13:\n",
            "      Successfully uninstalled PyYAML-3.13\n",
            "  Attempting uninstall: chardet\n",
            "    Found existing installation: chardet 3.0.4\n",
            "    Uninstalling chardet-3.0.4:\n",
            "      Successfully uninstalled chardet-3.0.4\n",
            "\u001b[31mERROR: pip's dependency resolver does not currently take into account all the packages that are installed. This behaviour is the source of the following dependency conflicts.\n",
            "google-colab 1.0.0 requires requests~=2.23.0, but you have requests 2.27.1 which is incompatible.\n",
            "datascience 0.10.6 requires folium==0.2.1, but you have folium 0.8.3 which is incompatible.\n",
            "albumentations 0.1.12 requires imgaug<0.2.7,>=0.2.5, but you have imgaug 0.2.9 which is incompatible.\u001b[0m\n",
            "Successfully installed PyYAML-6.0 certifi-2021.5.30 chardet-4.0.0 cycler-0.10.0 kiwisolver-1.3.1 pyparsing-2.4.7 python-dotenv-0.19.2 requests-2.27.1 roboflow-0.2.2 urllib3-1.26.6 wget-3.2\n"
          ]
        },
        {
          "output_type": "display_data",
          "data": {
            "application/vnd.colab-display-data+json": {
              "pip_warning": {
                "packages": [
                  "cycler",
                  "kiwisolver",
                  "pyparsing"
                ]
              }
            }
          },
          "metadata": {}
        },
        {
          "output_type": "stream",
          "name": "stdout",
          "text": [
            "loading Roboflow workspace...\n",
            "loading Roboflow project...\n",
            "Downloading Dataset Version Zip in Properties-Tag-Equalized-v2-2 to yolov5pytorch: 100% [404780200 / 404780200] bytes\n"
          ]
        },
        {
          "output_type": "stream",
          "name": "stderr",
          "text": [
            "Extracting Dataset Version Zip to Properties-Tag-Equalized-v2-2 in yolov5pytorch:: 100%|██████████| 9427/9427 [00:01<00:00, 4771.71it/s]\n"
          ]
        }
      ],
      "source": [
        "!pip install roboflow\n",
        "\n",
        "from roboflow import Roboflow\n",
        "rf = Roboflow(api_key=\"xxx\")\n",
        "project = rf.workspace(\"xxx\").project(\"xxx\")\n",
        "dataset = project.version(2).download(\"yolov5\")"
      ]
    },
    {
      "cell_type": "code",
      "source": [
        "!pip install wandb\n",
        "!wandb login xxx"
      ],
      "metadata": {
        "colab": {
          "base_uri": "https://localhost:8080/"
        },
        "id": "eiMNKL4jN8ki",
        "outputId": "01f06a60-a616-4123-fb4d-415a0072cbce"
      },
      "execution_count": null,
      "outputs": [
        {
          "output_type": "stream",
          "name": "stdout",
          "text": [
            "Collecting wandb\n",
            "  Downloading wandb-0.12.11-py2.py3-none-any.whl (1.7 MB)\n",
            "\u001b[?25l\r\u001b[K     |▏                               | 10 kB 31.2 MB/s eta 0:00:01\r\u001b[K     |▍                               | 20 kB 35.6 MB/s eta 0:00:01\r\u001b[K     |▋                               | 30 kB 20.2 MB/s eta 0:00:01\r\u001b[K     |▊                               | 40 kB 8.1 MB/s eta 0:00:01\r\u001b[K     |█                               | 51 kB 6.9 MB/s eta 0:00:01\r\u001b[K     |█▏                              | 61 kB 8.2 MB/s eta 0:00:01\r\u001b[K     |█▎                              | 71 kB 9.4 MB/s eta 0:00:01\r\u001b[K     |█▌                              | 81 kB 9.4 MB/s eta 0:00:01\r\u001b[K     |█▊                              | 92 kB 10.4 MB/s eta 0:00:01\r\u001b[K     |█▉                              | 102 kB 9.0 MB/s eta 0:00:01\r\u001b[K     |██                              | 112 kB 9.0 MB/s eta 0:00:01\r\u001b[K     |██▎                             | 122 kB 9.0 MB/s eta 0:00:01\r\u001b[K     |██▍                             | 133 kB 9.0 MB/s eta 0:00:01\r\u001b[K     |██▋                             | 143 kB 9.0 MB/s eta 0:00:01\r\u001b[K     |██▉                             | 153 kB 9.0 MB/s eta 0:00:01\r\u001b[K     |███                             | 163 kB 9.0 MB/s eta 0:00:01\r\u001b[K     |███▏                            | 174 kB 9.0 MB/s eta 0:00:01\r\u001b[K     |███▍                            | 184 kB 9.0 MB/s eta 0:00:01\r\u001b[K     |███▋                            | 194 kB 9.0 MB/s eta 0:00:01\r\u001b[K     |███▊                            | 204 kB 9.0 MB/s eta 0:00:01\r\u001b[K     |████                            | 215 kB 9.0 MB/s eta 0:00:01\r\u001b[K     |████▏                           | 225 kB 9.0 MB/s eta 0:00:01\r\u001b[K     |████▎                           | 235 kB 9.0 MB/s eta 0:00:01\r\u001b[K     |████▌                           | 245 kB 9.0 MB/s eta 0:00:01\r\u001b[K     |████▊                           | 256 kB 9.0 MB/s eta 0:00:01\r\u001b[K     |████▉                           | 266 kB 9.0 MB/s eta 0:00:01\r\u001b[K     |█████                           | 276 kB 9.0 MB/s eta 0:00:01\r\u001b[K     |█████▎                          | 286 kB 9.0 MB/s eta 0:00:01\r\u001b[K     |█████▌                          | 296 kB 9.0 MB/s eta 0:00:01\r\u001b[K     |█████▋                          | 307 kB 9.0 MB/s eta 0:00:01\r\u001b[K     |█████▉                          | 317 kB 9.0 MB/s eta 0:00:01\r\u001b[K     |██████                          | 327 kB 9.0 MB/s eta 0:00:01\r\u001b[K     |██████▏                         | 337 kB 9.0 MB/s eta 0:00:01\r\u001b[K     |██████▍                         | 348 kB 9.0 MB/s eta 0:00:01\r\u001b[K     |██████▋                         | 358 kB 9.0 MB/s eta 0:00:01\r\u001b[K     |██████▊                         | 368 kB 9.0 MB/s eta 0:00:01\r\u001b[K     |███████                         | 378 kB 9.0 MB/s eta 0:00:01\r\u001b[K     |███████▏                        | 389 kB 9.0 MB/s eta 0:00:01\r\u001b[K     |███████▎                        | 399 kB 9.0 MB/s eta 0:00:01\r\u001b[K     |███████▌                        | 409 kB 9.0 MB/s eta 0:00:01\r\u001b[K     |███████▊                        | 419 kB 9.0 MB/s eta 0:00:01\r\u001b[K     |███████▉                        | 430 kB 9.0 MB/s eta 0:00:01\r\u001b[K     |████████                        | 440 kB 9.0 MB/s eta 0:00:01\r\u001b[K     |████████▎                       | 450 kB 9.0 MB/s eta 0:00:01\r\u001b[K     |████████▌                       | 460 kB 9.0 MB/s eta 0:00:01\r\u001b[K     |████████▋                       | 471 kB 9.0 MB/s eta 0:00:01\r\u001b[K     |████████▉                       | 481 kB 9.0 MB/s eta 0:00:01\r\u001b[K     |█████████                       | 491 kB 9.0 MB/s eta 0:00:01\r\u001b[K     |█████████▏                      | 501 kB 9.0 MB/s eta 0:00:01\r\u001b[K     |█████████▍                      | 512 kB 9.0 MB/s eta 0:00:01\r\u001b[K     |█████████▋                      | 522 kB 9.0 MB/s eta 0:00:01\r\u001b[K     |█████████▊                      | 532 kB 9.0 MB/s eta 0:00:01\r\u001b[K     |██████████                      | 542 kB 9.0 MB/s eta 0:00:01\r\u001b[K     |██████████▏                     | 552 kB 9.0 MB/s eta 0:00:01\r\u001b[K     |██████████▎                     | 563 kB 9.0 MB/s eta 0:00:01\r\u001b[K     |██████████▌                     | 573 kB 9.0 MB/s eta 0:00:01\r\u001b[K     |██████████▊                     | 583 kB 9.0 MB/s eta 0:00:01\r\u001b[K     |███████████                     | 593 kB 9.0 MB/s eta 0:00:01\r\u001b[K     |███████████                     | 604 kB 9.0 MB/s eta 0:00:01\r\u001b[K     |███████████▎                    | 614 kB 9.0 MB/s eta 0:00:01\r\u001b[K     |███████████▌                    | 624 kB 9.0 MB/s eta 0:00:01\r\u001b[K     |███████████▋                    | 634 kB 9.0 MB/s eta 0:00:01\r\u001b[K     |███████████▉                    | 645 kB 9.0 MB/s eta 0:00:01\r\u001b[K     |████████████                    | 655 kB 9.0 MB/s eta 0:00:01\r\u001b[K     |████████████▏                   | 665 kB 9.0 MB/s eta 0:00:01\r\u001b[K     |████████████▍                   | 675 kB 9.0 MB/s eta 0:00:01\r\u001b[K     |████████████▋                   | 686 kB 9.0 MB/s eta 0:00:01\r\u001b[K     |████████████▊                   | 696 kB 9.0 MB/s eta 0:00:01\r\u001b[K     |█████████████                   | 706 kB 9.0 MB/s eta 0:00:01\r\u001b[K     |█████████████▏                  | 716 kB 9.0 MB/s eta 0:00:01\r\u001b[K     |█████████████▍                  | 727 kB 9.0 MB/s eta 0:00:01\r\u001b[K     |█████████████▌                  | 737 kB 9.0 MB/s eta 0:00:01\r\u001b[K     |█████████████▊                  | 747 kB 9.0 MB/s eta 0:00:01\r\u001b[K     |██████████████                  | 757 kB 9.0 MB/s eta 0:00:01\r\u001b[K     |██████████████                  | 768 kB 9.0 MB/s eta 0:00:01\r\u001b[K     |██████████████▎                 | 778 kB 9.0 MB/s eta 0:00:01\r\u001b[K     |██████████████▌                 | 788 kB 9.0 MB/s eta 0:00:01\r\u001b[K     |██████████████▋                 | 798 kB 9.0 MB/s eta 0:00:01\r\u001b[K     |██████████████▉                 | 808 kB 9.0 MB/s eta 0:00:01\r\u001b[K     |███████████████                 | 819 kB 9.0 MB/s eta 0:00:01\r\u001b[K     |███████████████▏                | 829 kB 9.0 MB/s eta 0:00:01\r\u001b[K     |███████████████▍                | 839 kB 9.0 MB/s eta 0:00:01\r\u001b[K     |███████████████▋                | 849 kB 9.0 MB/s eta 0:00:01\r\u001b[K     |███████████████▊                | 860 kB 9.0 MB/s eta 0:00:01\r\u001b[K     |████████████████                | 870 kB 9.0 MB/s eta 0:00:01\r\u001b[K     |████████████████▏               | 880 kB 9.0 MB/s eta 0:00:01\r\u001b[K     |████████████████▍               | 890 kB 9.0 MB/s eta 0:00:01\r\u001b[K     |████████████████▌               | 901 kB 9.0 MB/s eta 0:00:01\r\u001b[K     |████████████████▊               | 911 kB 9.0 MB/s eta 0:00:01\r\u001b[K     |█████████████████               | 921 kB 9.0 MB/s eta 0:00:01\r\u001b[K     |█████████████████               | 931 kB 9.0 MB/s eta 0:00:01\r\u001b[K     |█████████████████▎              | 942 kB 9.0 MB/s eta 0:00:01\r\u001b[K     |█████████████████▌              | 952 kB 9.0 MB/s eta 0:00:01\r\u001b[K     |█████████████████▋              | 962 kB 9.0 MB/s eta 0:00:01\r\u001b[K     |█████████████████▉              | 972 kB 9.0 MB/s eta 0:00:01\r\u001b[K     |██████████████████              | 983 kB 9.0 MB/s eta 0:00:01\r\u001b[K     |██████████████████▏             | 993 kB 9.0 MB/s eta 0:00:01\r\u001b[K     |██████████████████▍             | 1.0 MB 9.0 MB/s eta 0:00:01\r\u001b[K     |██████████████████▋             | 1.0 MB 9.0 MB/s eta 0:00:01\r\u001b[K     |██████████████████▉             | 1.0 MB 9.0 MB/s eta 0:00:01\r\u001b[K     |███████████████████             | 1.0 MB 9.0 MB/s eta 0:00:01\r\u001b[K     |███████████████████▏            | 1.0 MB 9.0 MB/s eta 0:00:01\r\u001b[K     |███████████████████▍            | 1.1 MB 9.0 MB/s eta 0:00:01\r\u001b[K     |███████████████████▌            | 1.1 MB 9.0 MB/s eta 0:00:01\r\u001b[K     |███████████████████▊            | 1.1 MB 9.0 MB/s eta 0:00:01\r\u001b[K     |████████████████████            | 1.1 MB 9.0 MB/s eta 0:00:01\r\u001b[K     |████████████████████            | 1.1 MB 9.0 MB/s eta 0:00:01\r\u001b[K     |████████████████████▎           | 1.1 MB 9.0 MB/s eta 0:00:01\r\u001b[K     |████████████████████▌           | 1.1 MB 9.0 MB/s eta 0:00:01\r\u001b[K     |████████████████████▋           | 1.1 MB 9.0 MB/s eta 0:00:01\r\u001b[K     |████████████████████▉           | 1.1 MB 9.0 MB/s eta 0:00:01\r\u001b[K     |█████████████████████           | 1.1 MB 9.0 MB/s eta 0:00:01\r\u001b[K     |█████████████████████▏          | 1.2 MB 9.0 MB/s eta 0:00:01\r\u001b[K     |█████████████████████▍          | 1.2 MB 9.0 MB/s eta 0:00:01\r\u001b[K     |█████████████████████▋          | 1.2 MB 9.0 MB/s eta 0:00:01\r\u001b[K     |█████████████████████▉          | 1.2 MB 9.0 MB/s eta 0:00:01\r\u001b[K     |██████████████████████          | 1.2 MB 9.0 MB/s eta 0:00:01\r\u001b[K     |██████████████████████▏         | 1.2 MB 9.0 MB/s eta 0:00:01\r\u001b[K     |██████████████████████▍         | 1.2 MB 9.0 MB/s eta 0:00:01\r\u001b[K     |██████████████████████▌         | 1.2 MB 9.0 MB/s eta 0:00:01\r\u001b[K     |██████████████████████▊         | 1.2 MB 9.0 MB/s eta 0:00:01\r\u001b[K     |███████████████████████         | 1.2 MB 9.0 MB/s eta 0:00:01\r\u001b[K     |███████████████████████         | 1.3 MB 9.0 MB/s eta 0:00:01\r\u001b[K     |███████████████████████▎        | 1.3 MB 9.0 MB/s eta 0:00:01\r\u001b[K     |███████████████████████▌        | 1.3 MB 9.0 MB/s eta 0:00:01\r\u001b[K     |███████████████████████▋        | 1.3 MB 9.0 MB/s eta 0:00:01\r\u001b[K     |███████████████████████▉        | 1.3 MB 9.0 MB/s eta 0:00:01\r\u001b[K     |████████████████████████        | 1.3 MB 9.0 MB/s eta 0:00:01\r\u001b[K     |████████████████████████▎       | 1.3 MB 9.0 MB/s eta 0:00:01\r\u001b[K     |████████████████████████▍       | 1.3 MB 9.0 MB/s eta 0:00:01\r\u001b[K     |████████████████████████▋       | 1.3 MB 9.0 MB/s eta 0:00:01\r\u001b[K     |████████████████████████▉       | 1.4 MB 9.0 MB/s eta 0:00:01\r\u001b[K     |█████████████████████████       | 1.4 MB 9.0 MB/s eta 0:00:01\r\u001b[K     |█████████████████████████▏      | 1.4 MB 9.0 MB/s eta 0:00:01\r\u001b[K     |█████████████████████████▍      | 1.4 MB 9.0 MB/s eta 0:00:01\r\u001b[K     |█████████████████████████▌      | 1.4 MB 9.0 MB/s eta 0:00:01\r\u001b[K     |█████████████████████████▊      | 1.4 MB 9.0 MB/s eta 0:00:01\r\u001b[K     |██████████████████████████      | 1.4 MB 9.0 MB/s eta 0:00:01\r\u001b[K     |██████████████████████████      | 1.4 MB 9.0 MB/s eta 0:00:01\r\u001b[K     |██████████████████████████▎     | 1.4 MB 9.0 MB/s eta 0:00:01\r\u001b[K     |██████████████████████████▌     | 1.4 MB 9.0 MB/s eta 0:00:01\r\u001b[K     |██████████████████████████▊     | 1.5 MB 9.0 MB/s eta 0:00:01\r\u001b[K     |██████████████████████████▉     | 1.5 MB 9.0 MB/s eta 0:00:01\r\u001b[K     |███████████████████████████     | 1.5 MB 9.0 MB/s eta 0:00:01\r\u001b[K     |███████████████████████████▎    | 1.5 MB 9.0 MB/s eta 0:00:01\r\u001b[K     |███████████████████████████▍    | 1.5 MB 9.0 MB/s eta 0:00:01\r\u001b[K     |███████████████████████████▋    | 1.5 MB 9.0 MB/s eta 0:00:01\r\u001b[K     |███████████████████████████▉    | 1.5 MB 9.0 MB/s eta 0:00:01\r\u001b[K     |████████████████████████████    | 1.5 MB 9.0 MB/s eta 0:00:01\r\u001b[K     |████████████████████████████▏   | 1.5 MB 9.0 MB/s eta 0:00:01\r\u001b[K     |████████████████████████████▍   | 1.5 MB 9.0 MB/s eta 0:00:01\r\u001b[K     |████████████████████████████▌   | 1.6 MB 9.0 MB/s eta 0:00:01\r\u001b[K     |████████████████████████████▊   | 1.6 MB 9.0 MB/s eta 0:00:01\r\u001b[K     |█████████████████████████████   | 1.6 MB 9.0 MB/s eta 0:00:01\r\u001b[K     |█████████████████████████████   | 1.6 MB 9.0 MB/s eta 0:00:01\r\u001b[K     |█████████████████████████████▎  | 1.6 MB 9.0 MB/s eta 0:00:01\r\u001b[K     |█████████████████████████████▌  | 1.6 MB 9.0 MB/s eta 0:00:01\r\u001b[K     |█████████████████████████████▊  | 1.6 MB 9.0 MB/s eta 0:00:01\r\u001b[K     |█████████████████████████████▉  | 1.6 MB 9.0 MB/s eta 0:00:01\r\u001b[K     |██████████████████████████████  | 1.6 MB 9.0 MB/s eta 0:00:01\r\u001b[K     |██████████████████████████████▎ | 1.6 MB 9.0 MB/s eta 0:00:01\r\u001b[K     |██████████████████████████████▍ | 1.7 MB 9.0 MB/s eta 0:00:01\r\u001b[K     |██████████████████████████████▋ | 1.7 MB 9.0 MB/s eta 0:00:01\r\u001b[K     |██████████████████████████████▉ | 1.7 MB 9.0 MB/s eta 0:00:01\r\u001b[K     |███████████████████████████████ | 1.7 MB 9.0 MB/s eta 0:00:01\r\u001b[K     |███████████████████████████████▏| 1.7 MB 9.0 MB/s eta 0:00:01\r\u001b[K     |███████████████████████████████▍| 1.7 MB 9.0 MB/s eta 0:00:01\r\u001b[K     |███████████████████████████████▌| 1.7 MB 9.0 MB/s eta 0:00:01\r\u001b[K     |███████████████████████████████▊| 1.7 MB 9.0 MB/s eta 0:00:01\r\u001b[K     |████████████████████████████████| 1.7 MB 9.0 MB/s eta 0:00:01\r\u001b[K     |████████████████████████████████| 1.7 MB 9.0 MB/s \n",
            "\u001b[?25hRequirement already satisfied: PyYAML in /usr/local/lib/python3.7/dist-packages (from wandb) (6.0)\n",
            "Requirement already satisfied: psutil>=5.0.0 in /usr/local/lib/python3.7/dist-packages (from wandb) (5.4.8)\n",
            "Collecting pathtools\n",
            "  Downloading pathtools-0.1.2.tar.gz (11 kB)\n",
            "Collecting GitPython>=1.0.0\n",
            "  Downloading GitPython-3.1.27-py3-none-any.whl (181 kB)\n",
            "\u001b[K     |████████████████████████████████| 181 kB 22.2 MB/s \n",
            "\u001b[?25hRequirement already satisfied: Click!=8.0.0,>=7.0 in /usr/local/lib/python3.7/dist-packages (from wandb) (7.1.2)\n",
            "Collecting shortuuid>=0.5.0\n",
            "  Downloading shortuuid-1.0.8-py3-none-any.whl (9.5 kB)\n",
            "Requirement already satisfied: protobuf>=3.12.0 in /usr/local/lib/python3.7/dist-packages (from wandb) (3.17.3)\n",
            "Requirement already satisfied: requests<3,>=2.0.0 in /usr/local/lib/python3.7/dist-packages (from wandb) (2.27.1)\n",
            "Collecting sentry-sdk>=1.0.0\n",
            "  Downloading sentry_sdk-1.5.7-py2.py3-none-any.whl (144 kB)\n",
            "\u001b[K     |████████████████████████████████| 144 kB 81.2 MB/s \n",
            "\u001b[?25hCollecting docker-pycreds>=0.4.0\n",
            "  Downloading docker_pycreds-0.4.0-py2.py3-none-any.whl (9.0 kB)\n",
            "Collecting setproctitle\n",
            "  Downloading setproctitle-1.2.2-cp37-cp37m-manylinux1_x86_64.whl (36 kB)\n",
            "Requirement already satisfied: six>=1.13.0 in /usr/local/lib/python3.7/dist-packages (from wandb) (1.15.0)\n",
            "Requirement already satisfied: python-dateutil>=2.6.1 in /usr/local/lib/python3.7/dist-packages (from wandb) (2.8.2)\n",
            "Requirement already satisfied: promise<3,>=2.0 in /usr/local/lib/python3.7/dist-packages (from wandb) (2.3)\n",
            "Collecting yaspin>=1.0.0\n",
            "  Downloading yaspin-2.1.0-py3-none-any.whl (18 kB)\n",
            "Requirement already satisfied: typing-extensions>=3.7.4.3 in /usr/local/lib/python3.7/dist-packages (from GitPython>=1.0.0->wandb) (3.10.0.2)\n",
            "Collecting gitdb<5,>=4.0.1\n",
            "  Downloading gitdb-4.0.9-py3-none-any.whl (63 kB)\n",
            "\u001b[K     |████████████████████████████████| 63 kB 2.1 MB/s \n",
            "\u001b[?25hCollecting smmap<6,>=3.0.1\n",
            "  Downloading smmap-5.0.0-py3-none-any.whl (24 kB)\n",
            "Requirement already satisfied: idna<4,>=2.5 in /usr/local/lib/python3.7/dist-packages (from requests<3,>=2.0.0->wandb) (2.10)\n",
            "Requirement already satisfied: urllib3<1.27,>=1.21.1 in /usr/local/lib/python3.7/dist-packages (from requests<3,>=2.0.0->wandb) (1.26.6)\n",
            "Requirement already satisfied: charset-normalizer~=2.0.0 in /usr/local/lib/python3.7/dist-packages (from requests<3,>=2.0.0->wandb) (2.0.12)\n",
            "Requirement already satisfied: certifi>=2017.4.17 in /usr/local/lib/python3.7/dist-packages (from requests<3,>=2.0.0->wandb) (2021.5.30)\n",
            "Requirement already satisfied: termcolor<2.0.0,>=1.1.0 in /usr/local/lib/python3.7/dist-packages (from yaspin>=1.0.0->wandb) (1.1.0)\n",
            "Building wheels for collected packages: pathtools\n",
            "  Building wheel for pathtools (setup.py) ... \u001b[?25l\u001b[?25hdone\n",
            "  Created wheel for pathtools: filename=pathtools-0.1.2-py3-none-any.whl size=8806 sha256=acf16c9e129c0fa24d1136f70e59376d10beeec092ddbb33d75af8f98763a123\n",
            "  Stored in directory: /root/.cache/pip/wheels/3e/31/09/fa59cef12cdcfecc627b3d24273699f390e71828921b2cbba2\n",
            "Successfully built pathtools\n",
            "Installing collected packages: smmap, gitdb, yaspin, shortuuid, setproctitle, sentry-sdk, pathtools, GitPython, docker-pycreds, wandb\n",
            "Successfully installed GitPython-3.1.27 docker-pycreds-0.4.0 gitdb-4.0.9 pathtools-0.1.2 sentry-sdk-1.5.7 setproctitle-1.2.2 shortuuid-1.0.8 smmap-5.0.0 wandb-0.12.11 yaspin-2.1.0\n",
            "\u001b[34m\u001b[1mwandb\u001b[0m: Appending key for api.wandb.ai to your netrc file: /root/.netrc\n"
          ]
        }
      ]
    },
    {
      "cell_type": "markdown",
      "source": [
        "# YOLO INSTALL"
      ],
      "metadata": {
        "id": "QnEeCmngIoc9"
      }
    },
    {
      "cell_type": "code",
      "source": [
        "#clone YOLOv5 and\n",
        "!git clone https://github.com/ultralytics/yolov5  # clone repo\n",
        "%cd yolov5\n",
        "%pip install -qr requirements.txt # install dependencies\n",
        "%pip install -q roboflow\n",
        "\n",
        "import torch\n",
        "import os\n",
        "from IPython.display import Image, clear_output  # to display images\n",
        "\n",
        "print(f\"Setup complete. Using torch {torch.__version__} ({torch.cuda.get_device_properties(0).name if torch.cuda.is_available() else 'CPU'})\")"
      ],
      "metadata": {
        "colab": {
          "base_uri": "https://localhost:8080/"
        },
        "id": "hCUMepHnIOXg",
        "outputId": "47a923fc-6d7f-4413-85da-d7222377ebe8"
      },
      "execution_count": null,
      "outputs": [
        {
          "output_type": "stream",
          "name": "stdout",
          "text": [
            "Cloning into 'yolov5'...\n",
            "remote: Enumerating objects: 11371, done.\u001b[K\n",
            "remote: Total 11371 (delta 0), reused 0 (delta 0), pack-reused 11371\u001b[K\n",
            "Receiving objects: 100% (11371/11371), 11.28 MiB | 28.10 MiB/s, done.\n",
            "Resolving deltas: 100% (7850/7850), done.\n",
            "/content/yolov5\n",
            "Setup complete. Using torch 1.10.0+cu111 (Tesla P100-PCIE-16GB)\n"
          ]
        }
      ]
    },
    {
      "cell_type": "code",
      "metadata": {
        "colab": {
          "base_uri": "https://localhost:8080/"
        },
        "id": "R2wGvjd4Z_92",
        "outputId": "b7c563a1-6ca4-45a7-eef3-e5aca8c01bb6"
      },
      "source": [
        "from roboflow import Roboflow\n",
        "rf = Roboflow(model_format=\"yolov5\", notebook=\"ultralytics\")"
      ],
      "execution_count": null,
      "outputs": [
        {
          "output_type": "stream",
          "name": "stdout",
          "text": [
            "upload and label your dataset, and get an API KEY here: https://app.roboflow.com/?model=yolov5&ref=ultralytics\n"
          ]
        }
      ]
    },
    {
      "cell_type": "code",
      "metadata": {
        "id": "2jjT5uIHo6l5"
      },
      "source": [
        "# set up environment\n",
        "os.environ[\"DATASET_DIRECTORY\"] = \"/content/datasets\""
      ],
      "execution_count": null,
      "outputs": []
    },
    {
      "cell_type": "code",
      "source": [
        "%cd /content"
      ],
      "metadata": {
        "colab": {
          "base_uri": "https://localhost:8080/"
        },
        "id": "LSLFkF-LOSbb",
        "outputId": "5a774bdf-b1f6-4dac-f1c6-0ae08eac32e4"
      },
      "execution_count": null,
      "outputs": [
        {
          "output_type": "stream",
          "name": "stdout",
          "text": [
            "/content\n"
          ]
        }
      ]
    },
    {
      "cell_type": "code",
      "source": [
        "!pip -q install --upgrade --no-cache-dir gdown\n",
        "\n",
        "# Load Fine-Tune Model\n",
        "# !gdown --id 1Ba3HQXAWnP3OlgbwsWV83D7hD2qyA-qE # v5m\n",
        "!gdown --id xxx # v5m-finetune v2"
      ],
      "metadata": {
        "colab": {
          "base_uri": "https://localhost:8080/"
        },
        "id": "AEXiMSnwxvG_",
        "outputId": "8af7ac12-e2be-4c10-db02-4688390ca2c2"
      },
      "execution_count": null,
      "outputs": [
        {
          "output_type": "stream",
          "name": "stdout",
          "text": [
            "  Installing build dependencies ... \u001b[?25l\u001b[?25hdone\n",
            "  Getting requirements to build wheel ... \u001b[?25l\u001b[?25hdone\n",
            "    Preparing wheel metadata ... \u001b[?25l\u001b[?25hdone\n",
            "  Building wheel for gdown (PEP 517) ... \u001b[?25l\u001b[?25hdone\n",
            "/usr/local/lib/python3.7/dist-packages/gdown/cli.py:131: FutureWarning: Option `--id` was deprecated in version 4.3.1 and will be removed in 5.0. You don't need to pass it anymore to use a file ID.\n",
            "  category=FutureWarning,\n",
            "Downloading...\n",
            "From: https://drive.google.com/uc?id=1F_DOMPl7Mz8TO_hvl9s0vd2ps8mGxIwE\n",
            "To: /content/yolo_v5m_finetune_v2.pt\n",
            "100% 42.2M/42.2M [00:00<00:00, 65.9MB/s]\n"
          ]
        }
      ]
    },
    {
      "cell_type": "markdown",
      "metadata": {
        "id": "X7yAi9hd-T4B"
      },
      "source": [
        "# Step 3: Train Our Custom YOLOv5 model\n",
        "\n",
        "Here, we are able to pass a number of arguments:\n",
        "- **img:** define input image size\n",
        "- **batch:** determine batch size\n",
        "- **epochs:** define the number of training epochs. (Note: often, 3000+ are common here!)\n",
        "- **data:** Our dataset locaiton is saved in the `dataset.location`\n",
        "- **weights:** specify a path to weights to start transfer learning from. Here we choose the generic COCO pretrained checkpoint.\n",
        "- **cache:** cache images for faster training"
      ]
    },
    {
      "cell_type": "code",
      "source": [
        "!wandb disabled\n",
        "!wandb enabled"
      ],
      "metadata": {
        "colab": {
          "base_uri": "https://localhost:8080/"
        },
        "id": "YQ03ZKt3zxWf",
        "outputId": "a6be3167-bb89-4596-9ac8-054cb2771899"
      },
      "execution_count": null,
      "outputs": [
        {
          "output_type": "stream",
          "name": "stdout",
          "text": [
            "W&B disabled.\n",
            "W&B enabled.\n"
          ]
        }
      ]
    },
    {
      "cell_type": "code",
      "source": [
        "!pwd"
      ],
      "metadata": {
        "colab": {
          "base_uri": "https://localhost:8080/"
        },
        "id": "CxMf97ezrQ8F",
        "outputId": "f6d96dd4-7d78-4e3f-cc84-1931e77a2867"
      },
      "execution_count": null,
      "outputs": [
        {
          "output_type": "stream",
          "name": "stdout",
          "text": [
            "/content\n"
          ]
        }
      ]
    },
    {
      "cell_type": "code",
      "metadata": {
        "colab": {
          "base_uri": "https://localhost:8080/"
        },
        "id": "eaFNnxLJbq4J",
        "outputId": "188af589-bd23-4d7a-e2e5-de4eb5df5390"
      },
      "source": [
        "DATA_PATH = \"/content/Properties-Tag-Equalized-v2-2/data.yaml\"\n",
        "WEIGHT = \"/content/yolo_v5m_finetune_v2.pt\"\n",
        "AUG_PATH = \"/content/yolov5/data/hyps/hyp.scratch-high.yaml\"\n",
        "!python /content/yolov5/train.py \\\n",
        "    --img 416 \\\n",
        "    --batch 64 \\\n",
        "    --epochs 200 \\\n",
        "    --data $DATA_PATH \\\n",
        "    --weights $WEIGHT \\\n",
        "    --cache \\\n",
        "    --patience 30 \\\n",
        "    --hyp $AUG_PATH\n",
        "    # --save-period 5 \\\n"
      ],
      "execution_count": null,
      "outputs": [
        {
          "output_type": "stream",
          "name": "stdout",
          "text": [
            "\u001b[34m\u001b[1mwandb\u001b[0m: Currently logged in as: \u001b[33mhuak95\u001b[0m (use `wandb login --relogin` to force relogin)\n",
            "\u001b[34m\u001b[1mtrain: \u001b[0mweights=/content/yolo_v5m_finetune_v2.pt, cfg=, data=/content/Properties-Tag-Equalized-v2-2/data.yaml, hyp=/content/yolov5/data/hyps/hyp.scratch-high.yaml, epochs=200, batch_size=64, imgsz=416, rect=False, resume=False, nosave=False, noval=False, noautoanchor=False, evolve=None, bucket=, cache=ram, image_weights=False, device=, multi_scale=False, single_cls=False, optimizer=SGD, sync_bn=False, workers=8, project=yolov5/runs/train, name=exp, exist_ok=False, quad=False, cos_lr=False, label_smoothing=0.0, patience=30, freeze=[0], save_period=-1, local_rank=-1, entity=None, upload_dataset=False, bbox_interval=-1, artifact_alias=latest\n",
            "\u001b[34m\u001b[1mgithub: \u001b[0mup to date with https://github.com/ultralytics/yolov5 ✅\n",
            "YOLOv5 🚀 v6.1-38-g7c6a335 torch 1.10.0+cu111 CUDA:0 (Tesla P100-PCIE-16GB, 16281MiB)\n",
            "\n",
            "\u001b[34m\u001b[1mhyperparameters: \u001b[0mlr0=0.01, lrf=0.1, momentum=0.937, weight_decay=0.0005, warmup_epochs=3.0, warmup_momentum=0.8, warmup_bias_lr=0.1, box=0.05, cls=0.3, cls_pw=1.0, obj=0.7, obj_pw=1.0, iou_t=0.2, anchor_t=4.0, fl_gamma=0.0, hsv_h=0.015, hsv_s=0.7, hsv_v=0.4, degrees=0.0, translate=0.1, scale=0.9, shear=0.0, perspective=0.0, flipud=0.0, fliplr=0.5, mosaic=1.0, mixup=0.1, copy_paste=0.1\n",
            "\u001b[34m\u001b[1mTensorBoard: \u001b[0mStart with 'tensorboard --logdir yolov5/runs/train', view at http://localhost:6006/\n",
            "\u001b[34m\u001b[1mwandb\u001b[0m: Tracking run with wandb version 0.12.11\n",
            "\u001b[34m\u001b[1mwandb\u001b[0m: Run data is saved locally in \u001b[35m\u001b[1m/content/wandb/run-20220318_013859-27n4x6zw\u001b[0m\n",
            "\u001b[34m\u001b[1mwandb\u001b[0m: Run \u001b[1m`wandb offline`\u001b[0m to turn off syncing.\n",
            "\u001b[34m\u001b[1mwandb\u001b[0m: Syncing run \u001b[33mroyal-glade-21\u001b[0m\n",
            "\u001b[34m\u001b[1mwandb\u001b[0m: ⭐️ View project at \u001b[34m\u001b[4mhttps://wandb.ai/huak95/train\u001b[0m\n",
            "\u001b[34m\u001b[1mwandb\u001b[0m: 🚀 View run at \u001b[34m\u001b[4mhttps://wandb.ai/huak95/train/runs/27n4x6zw\u001b[0m\n",
            "\n",
            "                 from  n    params  module                                  arguments                     \n",
            "  0                -1  1      5280  models.common.Conv                      [3, 48, 6, 2, 2]              \n",
            "  1                -1  1     41664  models.common.Conv                      [48, 96, 3, 2]                \n",
            "  2                -1  2     65280  models.common.C3                        [96, 96, 2]                   \n",
            "  3                -1  1    166272  models.common.Conv                      [96, 192, 3, 2]               \n",
            "  4                -1  4    444672  models.common.C3                        [192, 192, 4]                 \n",
            "  5                -1  1    664320  models.common.Conv                      [192, 384, 3, 2]              \n",
            "  6                -1  6   2512896  models.common.C3                        [384, 384, 6]                 \n",
            "  7                -1  1   2655744  models.common.Conv                      [384, 768, 3, 2]              \n",
            "  8                -1  2   4134912  models.common.C3                        [768, 768, 2]                 \n",
            "  9                -1  1   1476864  models.common.SPPF                      [768, 768, 5]                 \n",
            " 10                -1  1    295680  models.common.Conv                      [768, 384, 1, 1]              \n",
            " 11                -1  1         0  torch.nn.modules.upsampling.Upsample    [None, 2, 'nearest']          \n",
            " 12           [-1, 6]  1         0  models.common.Concat                    [1]                           \n",
            " 13                -1  2   1182720  models.common.C3                        [768, 384, 2, False]          \n",
            " 14                -1  1     74112  models.common.Conv                      [384, 192, 1, 1]              \n",
            " 15                -1  1         0  torch.nn.modules.upsampling.Upsample    [None, 2, 'nearest']          \n",
            " 16           [-1, 4]  1         0  models.common.Concat                    [1]                           \n",
            " 17                -1  2    296448  models.common.C3                        [384, 192, 2, False]          \n",
            " 18                -1  1    332160  models.common.Conv                      [192, 192, 3, 2]              \n",
            " 19          [-1, 14]  1         0  models.common.Concat                    [1]                           \n",
            " 20                -1  2   1035264  models.common.C3                        [384, 384, 2, False]          \n",
            " 21                -1  1   1327872  models.common.Conv                      [384, 384, 3, 2]              \n",
            " 22          [-1, 10]  1         0  models.common.Concat                    [1]                           \n",
            " 23                -1  2   4134912  models.common.C3                        [768, 768, 2, False]          \n",
            " 24      [17, 20, 23]  1     44451  models.yolo.Detect                      [6, [[10, 13, 16, 30, 33, 23], [30, 61, 62, 45, 59, 119], [116, 90, 156, 198, 373, 326]], [192, 384, 768]]\n",
            "Model Summary: 369 layers, 20891523 parameters, 20891523 gradients, 48.1 GFLOPs\n",
            "\n",
            "Transferred 481/481 items from /content/yolo_v5m_finetune_v2.pt\n",
            "Scaled weight_decay = 0.0005\n",
            "\u001b[34m\u001b[1moptimizer:\u001b[0m SGD with parameter groups 79 weight (no decay), 82 weight, 82 bias\n",
            "\u001b[34m\u001b[1malbumentations: \u001b[0mversion 1.0.3 required by YOLOv5, but version 0.1.12 is currently installed\n",
            "\u001b[34m\u001b[1mtrain: \u001b[0mScanning '/content/Properties-Tag-Equalized-v2-2/train/labels' images and labels...4608 found, 0 missing, 1 empty, 0 corrupt: 100% 4608/4608 [00:00<00:00, 5198.37it/s]\n",
            "\u001b[34m\u001b[1mtrain: \u001b[0mWARNING: /content/Properties-Tag-Equalized-v2-2/train/images/img_13-8125525_100-6014161_a169-4385681_s259-4385681_y0_f90_1_jpg.rf.f1e98424ddca19de139b4a4e9d864ec7.jpg: 1 duplicate labels removed\n",
            "\u001b[34m\u001b[1mtrain: \u001b[0mNew cache created: /content/Properties-Tag-Equalized-v2-2/train/labels.cache\n",
            "\u001b[34m\u001b[1mtrain: \u001b[0mCaching images (2.3GB ram): 100% 4608/4608 [00:13<00:00, 353.14it/s]\n",
            "\u001b[34m\u001b[1mval: \u001b[0mScanning '/content/Properties-Tag-Equalized-v2-2/valid/labels' images and labels...101 found, 0 missing, 0 empty, 0 corrupt: 100% 101/101 [00:00<00:00, 1234.33it/s]\n",
            "\u001b[34m\u001b[1mval: \u001b[0mNew cache created: /content/Properties-Tag-Equalized-v2-2/valid/labels.cache\n",
            "\u001b[34m\u001b[1mval: \u001b[0mCaching images (0.1GB ram): 100% 101/101 [00:00<00:00, 316.69it/s]\n",
            "Plotting labels to yolov5/runs/train/exp2/labels.jpg... \n",
            "\n",
            "\u001b[34m\u001b[1mAutoAnchor: \u001b[0m4.73 anchors/target, 0.993 Best Possible Recall (BPR). Current anchors are a good fit to dataset ✅\n",
            "Image sizes 416 train, 416 val\n",
            "Using 4 dataloader workers\n",
            "Logging results to \u001b[1myolov5/runs/train/exp2\u001b[0m\n",
            "Starting training for 200 epochs...\n",
            "\n",
            "     Epoch   gpu_mem       box       obj       cls    labels  img_size\n",
            "     0/199     9.92G   0.02497  0.006434  0.002143       176       416: 100% 72/72 [01:41<00:00,  1.41s/it]\n",
            "               Class     Images     Labels          P          R     mAP@.5 mAP@.5:.95: 100% 1/1 [00:00<00:00,  1.22it/s]\n",
            "                 all        101        167      0.776       0.76      0.771      0.554\n",
            "\n",
            "     Epoch   gpu_mem       box       obj       cls    labels  img_size\n",
            "     1/199     10.9G   0.02528  0.006822   0.00261       184       416: 100% 72/72 [01:39<00:00,  1.38s/it]\n",
            "               Class     Images     Labels          P          R     mAP@.5 mAP@.5:.95: 100% 1/1 [00:00<00:00,  1.26it/s]\n",
            "                 all        101        167      0.769       0.74      0.772       0.55\n",
            "\n",
            "     Epoch   gpu_mem       box       obj       cls    labels  img_size\n",
            "     2/199     10.9G   0.02587  0.007293  0.002856       153       416: 100% 72/72 [01:39<00:00,  1.38s/it]\n",
            "               Class     Images     Labels          P          R     mAP@.5 mAP@.5:.95: 100% 1/1 [00:00<00:00,  1.24it/s]\n",
            "                 all        101        167      0.542      0.701      0.656      0.348\n",
            "\n",
            "     Epoch   gpu_mem       box       obj       cls    labels  img_size\n",
            "     3/199     10.9G   0.02805  0.008572  0.003395       198       416: 100% 72/72 [01:39<00:00,  1.38s/it]\n",
            "               Class     Images     Labels          P          R     mAP@.5 mAP@.5:.95: 100% 1/1 [00:00<00:00,  1.26it/s]\n",
            "                 all        101        167      0.726      0.582      0.621      0.375\n",
            "\n",
            "     Epoch   gpu_mem       box       obj       cls    labels  img_size\n",
            "     4/199     10.9G   0.02897  0.008696  0.003747       186       416: 100% 72/72 [01:39<00:00,  1.38s/it]\n",
            "               Class     Images     Labels          P          R     mAP@.5 mAP@.5:.95: 100% 1/1 [00:00<00:00,  1.25it/s]\n",
            "                 all        101        167      0.654      0.617      0.637      0.383\n",
            "\n",
            "     Epoch   gpu_mem       box       obj       cls    labels  img_size\n",
            "     5/199     10.9G   0.02944  0.008977  0.003862       169       416: 100% 72/72 [01:39<00:00,  1.38s/it]\n",
            "               Class     Images     Labels          P          R     mAP@.5 mAP@.5:.95: 100% 1/1 [00:00<00:00,  1.22it/s]\n",
            "                 all        101        167      0.591      0.728      0.667      0.359\n",
            "\n",
            "     Epoch   gpu_mem       box       obj       cls    labels  img_size\n",
            "     6/199     10.9G   0.02946  0.009068  0.003763       194       416: 100% 72/72 [01:39<00:00,  1.38s/it]\n",
            "               Class     Images     Labels          P          R     mAP@.5 mAP@.5:.95: 100% 1/1 [00:00<00:00,  1.25it/s]\n",
            "                 all        101        167      0.553      0.491      0.483      0.269\n",
            "\n",
            "     Epoch   gpu_mem       box       obj       cls    labels  img_size\n",
            "     7/199     10.9G   0.02974  0.009027  0.004036       166       416: 100% 72/72 [01:39<00:00,  1.38s/it]\n",
            "               Class     Images     Labels          P          R     mAP@.5 mAP@.5:.95: 100% 1/1 [00:00<00:00,  1.25it/s]\n",
            "                 all        101        167      0.668      0.665      0.649      0.405\n",
            "\n",
            "     Epoch   gpu_mem       box       obj       cls    labels  img_size\n",
            "     8/199     10.9G   0.02987  0.008955   0.00382       165       416: 100% 72/72 [01:39<00:00,  1.38s/it]\n",
            "               Class     Images     Labels          P          R     mAP@.5 mAP@.5:.95: 100% 1/1 [00:00<00:00,  1.23it/s]\n",
            "                 all        101        167      0.687      0.658      0.674      0.416\n",
            "\n",
            "     Epoch   gpu_mem       box       obj       cls    labels  img_size\n",
            "     9/199     10.9G    0.0293  0.008777  0.003713       203       416: 100% 72/72 [01:39<00:00,  1.38s/it]\n",
            "               Class     Images     Labels          P          R     mAP@.5 mAP@.5:.95: 100% 1/1 [00:00<00:00,  1.25it/s]\n",
            "                 all        101        167      0.415      0.442      0.353       0.16\n",
            "\n",
            "     Epoch   gpu_mem       box       obj       cls    labels  img_size\n",
            "    10/199     10.9G   0.02902  0.008663  0.003562       138       416: 100% 72/72 [01:39<00:00,  1.38s/it]\n",
            "               Class     Images     Labels          P          R     mAP@.5 mAP@.5:.95: 100% 1/1 [00:00<00:00,  1.24it/s]\n",
            "                 all        101        167      0.783      0.551      0.666       0.44\n",
            "\n",
            "     Epoch   gpu_mem       box       obj       cls    labels  img_size\n",
            "    11/199     10.9G   0.02907  0.008902  0.003813       194       416: 100% 72/72 [01:39<00:00,  1.38s/it]\n",
            "               Class     Images     Labels          P          R     mAP@.5 mAP@.5:.95: 100% 1/1 [00:00<00:00,  1.22it/s]\n",
            "                 all        101        167      0.633      0.508      0.548       0.34\n",
            "\n",
            "     Epoch   gpu_mem       box       obj       cls    labels  img_size\n",
            "    12/199     10.9G   0.02899  0.008645  0.003654       216       416: 100% 72/72 [01:39<00:00,  1.38s/it]\n",
            "               Class     Images     Labels          P          R     mAP@.5 mAP@.5:.95: 100% 1/1 [00:00<00:00,  1.25it/s]\n",
            "                 all        101        167      0.508      0.357       0.33      0.138\n",
            "\n",
            "     Epoch   gpu_mem       box       obj       cls    labels  img_size\n",
            "    13/199     10.9G   0.02905  0.008698    0.0037       245       416: 100% 72/72 [01:39<00:00,  1.38s/it]\n",
            "               Class     Images     Labels          P          R     mAP@.5 mAP@.5:.95: 100% 1/1 [00:00<00:00,  1.25it/s]\n",
            "                 all        101        167      0.663      0.509      0.524      0.325\n",
            "\n",
            "     Epoch   gpu_mem       box       obj       cls    labels  img_size\n",
            "    14/199     10.9G   0.02858  0.008763  0.003602       183       416: 100% 72/72 [01:39<00:00,  1.38s/it]\n",
            "               Class     Images     Labels          P          R     mAP@.5 mAP@.5:.95: 100% 1/1 [00:00<00:00,  1.22it/s]\n",
            "                 all        101        167       0.76      0.594      0.693      0.358\n",
            "\n",
            "     Epoch   gpu_mem       box       obj       cls    labels  img_size\n",
            "    15/199     10.9G   0.02847  0.008667  0.003478       196       416: 100% 72/72 [01:39<00:00,  1.38s/it]\n",
            "               Class     Images     Labels          P          R     mAP@.5 mAP@.5:.95: 100% 1/1 [00:00<00:00,  1.24it/s]\n",
            "                 all        101        167      0.815      0.628      0.711      0.431\n",
            "\n",
            "     Epoch   gpu_mem       box       obj       cls    labels  img_size\n",
            "    16/199     10.9G   0.02886  0.008685  0.003602       174       416: 100% 72/72 [01:39<00:00,  1.38s/it]\n",
            "               Class     Images     Labels          P          R     mAP@.5 mAP@.5:.95: 100% 1/1 [00:00<00:00,  1.22it/s]\n",
            "                 all        101        167      0.706      0.688      0.703      0.414\n",
            "\n",
            "     Epoch   gpu_mem       box       obj       cls    labels  img_size\n",
            "    17/199     10.9G   0.02821  0.008588  0.003596       190       416: 100% 72/72 [01:39<00:00,  1.38s/it]\n",
            "               Class     Images     Labels          P          R     mAP@.5 mAP@.5:.95: 100% 1/1 [00:00<00:00,  1.25it/s]\n",
            "                 all        101        167      0.765      0.541      0.628      0.334\n",
            "\n",
            "     Epoch   gpu_mem       box       obj       cls    labels  img_size\n",
            "    18/199     10.9G   0.02874   0.00868  0.003635       192       416: 100% 72/72 [01:39<00:00,  1.38s/it]\n",
            "               Class     Images     Labels          P          R     mAP@.5 mAP@.5:.95: 100% 1/1 [00:00<00:00,  1.24it/s]\n",
            "                 all        101        167      0.734      0.634      0.689      0.414\n",
            "\n",
            "     Epoch   gpu_mem       box       obj       cls    labels  img_size\n",
            "    19/199     10.9G   0.02861  0.008599  0.003525       156       416: 100% 72/72 [01:39<00:00,  1.38s/it]\n",
            "               Class     Images     Labels          P          R     mAP@.5 mAP@.5:.95: 100% 1/1 [00:01<00:00,  1.77s/it]\n",
            "                 all        101        167      0.683      0.708      0.661       0.42\n",
            "\n",
            "     Epoch   gpu_mem       box       obj       cls    labels  img_size\n",
            "    20/199     10.9G   0.02802  0.008359  0.003438       198       416: 100% 72/72 [01:39<00:00,  1.38s/it]\n",
            "               Class     Images     Labels          P          R     mAP@.5 mAP@.5:.95: 100% 1/1 [00:00<00:00,  1.25it/s]\n",
            "                 all        101        167       0.72      0.563      0.635      0.401\n",
            "\n",
            "     Epoch   gpu_mem       box       obj       cls    labels  img_size\n",
            "    21/199     10.9G    0.0281  0.008545  0.003425       205       416: 100% 72/72 [01:39<00:00,  1.38s/it]\n",
            "               Class     Images     Labels          P          R     mAP@.5 mAP@.5:.95: 100% 1/1 [00:00<00:00,  1.24it/s]\n",
            "                 all        101        167       0.78      0.587      0.702      0.434\n",
            "\n",
            "     Epoch   gpu_mem       box       obj       cls    labels  img_size\n",
            "    22/199     10.9G   0.02779   0.00843  0.003441       175       416: 100% 72/72 [01:39<00:00,  1.38s/it]\n",
            "               Class     Images     Labels          P          R     mAP@.5 mAP@.5:.95: 100% 1/1 [00:00<00:00,  1.23it/s]\n",
            "                 all        101        167      0.827      0.573      0.681      0.484\n",
            "\n",
            "     Epoch   gpu_mem       box       obj       cls    labels  img_size\n",
            "    23/199     10.9G   0.02796   0.00856  0.003445       221       416: 100% 72/72 [01:39<00:00,  1.38s/it]\n",
            "               Class     Images     Labels          P          R     mAP@.5 mAP@.5:.95: 100% 1/1 [00:00<00:00,  1.25it/s]\n",
            "                 all        101        167      0.708       0.62      0.625      0.421\n",
            "\n",
            "     Epoch   gpu_mem       box       obj       cls    labels  img_size\n",
            "    24/199     10.9G   0.02746    0.0083  0.003559       166       416: 100% 72/72 [01:39<00:00,  1.38s/it]\n",
            "               Class     Images     Labels          P          R     mAP@.5 mAP@.5:.95: 100% 1/1 [00:00<00:00,  1.23it/s]\n",
            "                 all        101        167      0.809      0.558       0.64      0.402\n",
            "\n",
            "     Epoch   gpu_mem       box       obj       cls    labels  img_size\n",
            "    25/199     10.9G   0.02825  0.008558  0.003454       161       416: 100% 72/72 [01:39<00:00,  1.38s/it]\n",
            "               Class     Images     Labels          P          R     mAP@.5 mAP@.5:.95: 100% 1/1 [00:00<00:00,  1.23it/s]\n",
            "                 all        101        167       0.75      0.561      0.649      0.372\n",
            "\n",
            "     Epoch   gpu_mem       box       obj       cls    labels  img_size\n",
            "    26/199     10.9G   0.02775  0.008359  0.003336       196       416: 100% 72/72 [01:39<00:00,  1.38s/it]\n",
            "               Class     Images     Labels          P          R     mAP@.5 mAP@.5:.95: 100% 1/1 [00:00<00:00,  1.24it/s]\n",
            "                 all        101        167      0.722      0.568      0.648      0.437\n",
            "\n",
            "     Epoch   gpu_mem       box       obj       cls    labels  img_size\n",
            "    27/199     10.9G   0.02781  0.008392  0.003511       213       416: 100% 72/72 [01:39<00:00,  1.38s/it]\n",
            "               Class     Images     Labels          P          R     mAP@.5 mAP@.5:.95: 100% 1/1 [00:00<00:00,  1.21it/s]\n",
            "                 all        101        167      0.751      0.575      0.631      0.411\n",
            "\n",
            "     Epoch   gpu_mem       box       obj       cls    labels  img_size\n",
            "    28/199     10.9G   0.02765  0.008319  0.003382       215       416: 100% 72/72 [01:39<00:00,  1.38s/it]\n",
            "               Class     Images     Labels          P          R     mAP@.5 mAP@.5:.95: 100% 1/1 [00:00<00:00,  1.24it/s]\n",
            "                 all        101        167      0.775      0.583      0.656      0.434\n",
            "\n",
            "     Epoch   gpu_mem       box       obj       cls    labels  img_size\n",
            "    29/199     10.9G   0.02779  0.008329   0.00339       169       416: 100% 72/72 [01:39<00:00,  1.38s/it]\n",
            "               Class     Images     Labels          P          R     mAP@.5 mAP@.5:.95: 100% 1/1 [00:00<00:00,  1.25it/s]\n",
            "                 all        101        167        0.7      0.604      0.606      0.399\n",
            "\n",
            "     Epoch   gpu_mem       box       obj       cls    labels  img_size\n",
            "    30/199     10.9G   0.02782   0.00839  0.003427       189       416: 100% 72/72 [01:39<00:00,  1.38s/it]\n",
            "               Class     Images     Labels          P          R     mAP@.5 mAP@.5:.95: 100% 1/1 [00:00<00:00,  1.23it/s]\n",
            "                 all        101        167       0.78      0.671      0.726      0.496\n",
            "Stopping training early as no improvement observed in last 30 epochs. Best results observed at epoch 0, best model saved as best.pt.\n",
            "To update EarlyStopping(patience=30) pass a new patience value, i.e. `python train.py --patience 300` or use `--patience 0` to disable EarlyStopping.\n",
            "\n",
            "31 epochs completed in 0.871 hours.\n",
            "Optimizer stripped from yolov5/runs/train/exp2/weights/last.pt, 42.2MB\n",
            "Optimizer stripped from yolov5/runs/train/exp2/weights/best.pt, 42.2MB\n",
            "\n",
            "Validating yolov5/runs/train/exp2/weights/best.pt...\n",
            "Fusing layers... \n",
            "Model Summary: 290 layers, 20873139 parameters, 0 gradients, 48.0 GFLOPs\n",
            "               Class     Images     Labels          P          R     mAP@.5 mAP@.5:.95: 100% 1/1 [00:00<00:00,  1.07it/s]\n",
            "                 all        101        167      0.776       0.76      0.771      0.554\n",
            "               fence        101         61      0.903      0.764      0.886      0.593\n",
            "             parking        101         91      0.486      0.516       0.44      0.233\n",
            "                yard        101         15      0.937          1      0.987      0.836\n",
            "\n",
            "\u001b[34m\u001b[1mwandb\u001b[0m: Waiting for W&B process to finish... \u001b[32m(success).\u001b[0m\n",
            "\u001b[34m\u001b[1mwandb\u001b[0m:                                                                                \n",
            "\u001b[34m\u001b[1mwandb\u001b[0m: \n",
            "\u001b[34m\u001b[1mwandb\u001b[0m: Run history:\n",
            "\u001b[34m\u001b[1mwandb\u001b[0m:      metrics/mAP_0.5 ██▆▆▆▆▃▆▆▁▆▄▁▄▇▇▇▆▇▆▆▇▇▆▆▆▆▆▆▅▇█\n",
            "\u001b[34m\u001b[1mwandb\u001b[0m: metrics/mAP_0.5:0.95 ██▅▅▅▅▃▅▆▁▆▄▁▄▅▆▆▄▆▆▅▆▇▆▅▅▆▆▆▅▇█\n",
            "\u001b[34m\u001b[1mwandb\u001b[0m:    metrics/precision ▇▇▃▆▅▄▃▅▆▁▇▅▃▅▇█▆▇▆▆▆▇█▆█▇▆▇▇▆▇▇\n",
            "\u001b[34m\u001b[1mwandb\u001b[0m:       metrics/recall ██▇▅▆▇▃▆▆▂▄▄▁▄▅▆▇▄▆▇▅▅▅▆▄▅▅▅▅▅▆█\n",
            "\u001b[34m\u001b[1mwandb\u001b[0m:       train/box_loss ▁▁▂▅▇▇▇██▇▇▇▇▇▆▆▇▆▆▆▅▅▅▅▅▆▅▅▅▅▅\n",
            "\u001b[34m\u001b[1mwandb\u001b[0m:       train/cls_loss ▁▃▄▆▇▇▇█▇▇▆▇▇▇▆▆▆▆▇▆▆▆▆▆▆▆▅▆▆▆▆\n",
            "\u001b[34m\u001b[1mwandb\u001b[0m:       train/obj_loss ▁▂▃▇▇████▇▇█▇▇▇▇▇▇▇▇▆▇▆▇▆▇▆▆▆▆▆\n",
            "\u001b[34m\u001b[1mwandb\u001b[0m:         val/box_loss ▂▁▃▃▃▃▃▆▂█▂▄▇▂▃▂▃▂▄▂▁▂▁▂▃▄▄▃▃▄▁▂\n",
            "\u001b[34m\u001b[1mwandb\u001b[0m:         val/cls_loss ▂▂▂▂▄▁▆▅▃▅▄▆▆▆▃▅▁▄▄▄▆▆▃▅▅▅█▅▄█▄▂\n",
            "\u001b[34m\u001b[1mwandb\u001b[0m:         val/obj_loss ▄▃▂▅▃▁▄▂▂▅▃▂█▂▂▂▃▂▂▄▃▂▂▃▄▅▄▂▃▄▃▄\n",
            "\u001b[34m\u001b[1mwandb\u001b[0m:                x/lr0 ▁▅█████████████▇▇▇▇▇▇▇▇▇▇▇▇▇▇▇▇\n",
            "\u001b[34m\u001b[1mwandb\u001b[0m:                x/lr1 ▁▅█████████████▇▇▇▇▇▇▇▇▇▇▇▇▇▇▇▇\n",
            "\u001b[34m\u001b[1mwandb\u001b[0m:                x/lr2 █▅▁▁▁▁▁▁▁▁▁▁▁▁▁▁▁▁▁▁▁▁▁▁▁▁▁▁▁▁▁\n",
            "\u001b[34m\u001b[1mwandb\u001b[0m: \n",
            "\u001b[34m\u001b[1mwandb\u001b[0m: Run summary:\n",
            "\u001b[34m\u001b[1mwandb\u001b[0m:           best/epoch 0\n",
            "\u001b[34m\u001b[1mwandb\u001b[0m:         best/mAP_0.5 0.77126\n",
            "\u001b[34m\u001b[1mwandb\u001b[0m:    best/mAP_0.5:0.95 0.55383\n",
            "\u001b[34m\u001b[1mwandb\u001b[0m:       best/precision 0.77572\n",
            "\u001b[34m\u001b[1mwandb\u001b[0m:          best/recall 0.76023\n",
            "\u001b[34m\u001b[1mwandb\u001b[0m:      metrics/mAP_0.5 0.77114\n",
            "\u001b[34m\u001b[1mwandb\u001b[0m: metrics/mAP_0.5:0.95 0.55385\n",
            "\u001b[34m\u001b[1mwandb\u001b[0m:    metrics/precision 0.77564\n",
            "\u001b[34m\u001b[1mwandb\u001b[0m:       metrics/recall 0.76004\n",
            "\u001b[34m\u001b[1mwandb\u001b[0m:       train/box_loss 0.02782\n",
            "\u001b[34m\u001b[1mwandb\u001b[0m:       train/cls_loss 0.00343\n",
            "\u001b[34m\u001b[1mwandb\u001b[0m:       train/obj_loss 0.00839\n",
            "\u001b[34m\u001b[1mwandb\u001b[0m:         val/box_loss 0.04256\n",
            "\u001b[34m\u001b[1mwandb\u001b[0m:         val/cls_loss 0.00498\n",
            "\u001b[34m\u001b[1mwandb\u001b[0m:         val/obj_loss 0.01153\n",
            "\u001b[34m\u001b[1mwandb\u001b[0m:                x/lr0 0.00869\n",
            "\u001b[34m\u001b[1mwandb\u001b[0m:                x/lr1 0.00869\n",
            "\u001b[34m\u001b[1mwandb\u001b[0m:                x/lr2 0.00869\n",
            "\u001b[34m\u001b[1mwandb\u001b[0m: \n",
            "\u001b[34m\u001b[1mwandb\u001b[0m: Synced \u001b[33mroyal-glade-21\u001b[0m: \u001b[34m\u001b[4mhttps://wandb.ai/huak95/train/runs/27n4x6zw\u001b[0m\n",
            "\u001b[34m\u001b[1mwandb\u001b[0m: Synced 5 W&B file(s), 45 media file(s), 1 artifact file(s) and 0 other file(s)\n",
            "\u001b[34m\u001b[1mwandb\u001b[0m: Find logs at: \u001b[35m\u001b[1m./wandb/run-20220318_013859-27n4x6zw/logs\u001b[0m\n",
            "Results saved to \u001b[1myolov5/runs/train/exp2\u001b[0m\n"
          ]
        }
      ]
    },
    {
      "cell_type": "code",
      "source": [
        "import glob\n",
        "\n",
        "# Use newest path\n",
        "last_train_path = sorted(glob.glob('/content/yolov5/runs/train/*'))[-1]\n",
        "print(\"last_train_path: \", last_train_path)\n",
        "\n",
        "last_train_path_weight = last_train_path+'/weights/best.pt'\n"
      ],
      "metadata": {
        "colab": {
          "base_uri": "https://localhost:8080/"
        },
        "id": "nplg_wnGoF-B",
        "outputId": "7e583276-9ffd-4a92-a480-52f6bd9cf066"
      },
      "execution_count": null,
      "outputs": [
        {
          "output_type": "stream",
          "name": "stdout",
          "text": [
            "last_train_path:  /content/yolov5/runs/train/exp\n"
          ]
        }
      ]
    },
    {
      "cell_type": "code",
      "source": [
        "output_weight_path = \"/content/drive/Shareddrives/SuperAI_Dataset/Image_Classification/Model/\"+ \"v3_\" + WEIGHT.split('/')[-1]"
      ],
      "metadata": {
        "id": "Y_LERPi0ojN4"
      },
      "execution_count": null,
      "outputs": []
    },
    {
      "cell_type": "code",
      "source": [
        "!cp -r $last_train_path_weight $output_weight_path"
      ],
      "metadata": {
        "id": "Bpv8aV8cWKws"
      },
      "execution_count": null,
      "outputs": []
    },
    {
      "cell_type": "code",
      "source": [
        ""
      ],
      "metadata": {
        "id": "0iidbVvNt4Ib"
      },
      "execution_count": null,
      "outputs": []
    }
  ]
}